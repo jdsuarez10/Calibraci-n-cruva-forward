{
 "cells": [
  {
   "cell_type": "code",
   "execution_count": 21,
   "metadata": {},
   "outputs": [],
   "source": [
    "import pandas as pd\n",
    "import numpy as np\n",
    "import matplotlib.pyplot as plt\n",
    "import math as mt\n",
    "import scipy.optimize as spo"
   ]
  },
  {
   "cell_type": "code",
   "execution_count": 2,
   "metadata": {},
   "outputs": [],
   "source": [
    "# ----------- convenciones ------------------\n",
    "dias_mes=30\n",
    "dia_año=360\n",
    "dia_prestamo=365\n",
    "#================== caracteristicas de los contratos en días ===================\n",
    "\n",
    "plazos_tasas=[3*dias_mes,6*dias_mes,12*dias_mes,2*dia_año,3*dia_año,5*dia_año,7*dia_año,10*dia_año]\n",
    "plazo_curva=[0,3*dias_mes,dia_año,3*dia_año,5*dia_año,10*dia_año]"
   ]
  },
  {
   "cell_type": "markdown",
   "metadata": {},
   "source": [
    "# Abrir datos"
   ]
  },
  {
   "cell_type": "code",
   "execution_count": 3,
   "metadata": {},
   "outputs": [],
   "source": [
    "datos=pd.read_excel(\"datos_taller.xlsx\", index_col=0)/100"
   ]
  },
  {
   "cell_type": "code",
   "execution_count": 4,
   "metadata": {
    "scrolled": true
   },
   "outputs": [
    {
     "data": {
      "text/html": [
       "<div>\n",
       "<style scoped>\n",
       "    .dataframe tbody tr th:only-of-type {\n",
       "        vertical-align: middle;\n",
       "    }\n",
       "\n",
       "    .dataframe tbody tr th {\n",
       "        vertical-align: top;\n",
       "    }\n",
       "\n",
       "    .dataframe thead th {\n",
       "        text-align: right;\n",
       "    }\n",
       "</style>\n",
       "<table border=\"1\" class=\"dataframe\">\n",
       "  <thead>\n",
       "    <tr style=\"text-align: right;\">\n",
       "      <th></th>\n",
       "      <th>ICE LIBOR USD 3 Month</th>\n",
       "      <th>ICE LIBOR USD 6 Month</th>\n",
       "      <th>ICE LIBOR USD 12 Month</th>\n",
       "      <th>USD SWAP SEMI 30/360 2YR</th>\n",
       "      <th>USD SWAP SEMI 30/360 3YR</th>\n",
       "      <th>USD SWAP SEMI 30/360 5YR</th>\n",
       "      <th>USD SWAP SEMI 30/360 7YR</th>\n",
       "      <th>USD SWAP SEMI 30/360 10Y</th>\n",
       "    </tr>\n",
       "    <tr>\n",
       "      <th>Dates</th>\n",
       "      <th></th>\n",
       "      <th></th>\n",
       "      <th></th>\n",
       "      <th></th>\n",
       "      <th></th>\n",
       "      <th></th>\n",
       "      <th></th>\n",
       "      <th></th>\n",
       "    </tr>\n",
       "  </thead>\n",
       "  <tbody>\n",
       "    <tr>\n",
       "      <td>2020-02-06</td>\n",
       "      <td>0.017341</td>\n",
       "      <td>0.017496</td>\n",
       "      <td>0.018426</td>\n",
       "      <td>0.015046</td>\n",
       "      <td>0.014624</td>\n",
       "      <td>0.014704</td>\n",
       "      <td>0.015168</td>\n",
       "      <td>0.016031</td>\n",
       "    </tr>\n",
       "    <tr>\n",
       "      <td>2020-02-07</td>\n",
       "      <td>0.017309</td>\n",
       "      <td>0.017404</td>\n",
       "      <td>0.018349</td>\n",
       "      <td>0.014552</td>\n",
       "      <td>0.014089</td>\n",
       "      <td>0.014129</td>\n",
       "      <td>0.014561</td>\n",
       "      <td>0.015400</td>\n",
       "    </tr>\n",
       "    <tr>\n",
       "      <td>2020-02-10</td>\n",
       "      <td>0.017131</td>\n",
       "      <td>0.017206</td>\n",
       "      <td>0.018005</td>\n",
       "      <td>0.014313</td>\n",
       "      <td>0.013850</td>\n",
       "      <td>0.013891</td>\n",
       "      <td>0.014329</td>\n",
       "      <td>0.015169</td>\n",
       "    </tr>\n",
       "    <tr>\n",
       "      <td>2020-02-11</td>\n",
       "      <td>0.017073</td>\n",
       "      <td>0.017245</td>\n",
       "      <td>0.018071</td>\n",
       "      <td>0.014561</td>\n",
       "      <td>0.014129</td>\n",
       "      <td>0.014172</td>\n",
       "      <td>0.014630</td>\n",
       "      <td>0.015473</td>\n",
       "    </tr>\n",
       "    <tr>\n",
       "      <td>2020-02-12</td>\n",
       "      <td>0.017037</td>\n",
       "      <td>0.017254</td>\n",
       "      <td>0.018127</td>\n",
       "      <td>0.014890</td>\n",
       "      <td>0.014509</td>\n",
       "      <td>0.014585</td>\n",
       "      <td>0.015051</td>\n",
       "      <td>0.015894</td>\n",
       "    </tr>\n",
       "  </tbody>\n",
       "</table>\n",
       "</div>"
      ],
      "text/plain": [
       "            ICE LIBOR USD 3 Month  ICE LIBOR USD 6 Month  \\\n",
       "Dates                                                      \n",
       "2020-02-06               0.017341               0.017496   \n",
       "2020-02-07               0.017309               0.017404   \n",
       "2020-02-10               0.017131               0.017206   \n",
       "2020-02-11               0.017073               0.017245   \n",
       "2020-02-12               0.017037               0.017254   \n",
       "\n",
       "            ICE LIBOR USD 12 Month  USD SWAP SEMI 30/360 2YR  \\\n",
       "Dates                                                          \n",
       "2020-02-06                0.018426                  0.015046   \n",
       "2020-02-07                0.018349                  0.014552   \n",
       "2020-02-10                0.018005                  0.014313   \n",
       "2020-02-11                0.018071                  0.014561   \n",
       "2020-02-12                0.018127                  0.014890   \n",
       "\n",
       "            USD SWAP SEMI 30/360 3YR  USD SWAP SEMI 30/360 5YR  \\\n",
       "Dates                                                            \n",
       "2020-02-06                  0.014624                  0.014704   \n",
       "2020-02-07                  0.014089                  0.014129   \n",
       "2020-02-10                  0.013850                  0.013891   \n",
       "2020-02-11                  0.014129                  0.014172   \n",
       "2020-02-12                  0.014509                  0.014585   \n",
       "\n",
       "            USD SWAP SEMI 30/360 7YR  USD SWAP SEMI 30/360 10Y  \n",
       "Dates                                                           \n",
       "2020-02-06                  0.015168                  0.016031  \n",
       "2020-02-07                  0.014561                  0.015400  \n",
       "2020-02-10                  0.014329                  0.015169  \n",
       "2020-02-11                  0.014630                  0.015473  \n",
       "2020-02-12                  0.015051                  0.015894  "
      ]
     },
     "execution_count": 4,
     "metadata": {},
     "output_type": "execute_result"
    }
   ],
   "source": [
    "datos.tail()"
   ]
  },
  {
   "cell_type": "markdown",
   "metadata": {},
   "source": [
    "Asignar a cada prestamo los dias de duración"
   ]
  },
  {
   "cell_type": "code",
   "execution_count": 5,
   "metadata": {},
   "outputs": [
    {
     "data": {
      "text/plain": [
       "{'ICE LIBOR USD 3 Month': 90,\n",
       " 'ICE LIBOR USD 6 Month': 180,\n",
       " 'ICE LIBOR USD 12 Month': 360,\n",
       " 'USD SWAP SEMI 30/360 2YR': 720,\n",
       " 'USD SWAP SEMI 30/360 3YR': 1080,\n",
       " 'USD SWAP SEMI 30/360 5YR': 1800,\n",
       " 'USD SWAP SEMI 30/360 7YR': 2520,\n",
       " 'USD SWAP SEMI 30/360 10Y': 3600}"
      ]
     },
     "execution_count": 5,
     "metadata": {},
     "output_type": "execute_result"
    }
   ],
   "source": [
    "plazos={}\n",
    "for i in range(len(datos.columns)):\n",
    "    plazos[datos.columns[i]]=plazos_tasas[i]\n",
    "plazos"
   ]
  },
  {
   "cell_type": "code",
   "execution_count": 6,
   "metadata": {},
   "outputs": [
    {
     "data": {
      "text/plain": [
       "{0: 'libor',\n",
       " 1: 'libor',\n",
       " 2: 'libor',\n",
       " 3: 'swap',\n",
       " 4: 'swap',\n",
       " 5: 'swap',\n",
       " 6: 'swap',\n",
       " 7: 'swap'}"
      ]
     },
     "execution_count": 6,
     "metadata": {},
     "output_type": "execute_result"
    }
   ],
   "source": [
    "tipo={}\n",
    "instrumento=[\"libor\",\"libor\",\"libor\",\"swap\",\"swap\",\"swap\",\"swap\",\"swap\"]\n",
    "for i in range(len(datos.columns)):\n",
    "    tipo[i]=instrumento[i]\n",
    "tipo"
   ]
  },
  {
   "cell_type": "code",
   "execution_count": 7,
   "metadata": {},
   "outputs": [
    {
     "data": {
      "text/plain": [
       "{0: 'ICE LIBOR USD 3 Month',\n",
       " 1: 'ICE LIBOR USD 6 Month',\n",
       " 2: 'ICE LIBOR USD 12 Month',\n",
       " 3: 'USD SWAP SEMI 30/360 2YR',\n",
       " 4: 'USD SWAP SEMI 30/360 3YR',\n",
       " 5: 'USD SWAP SEMI 30/360 5YR',\n",
       " 6: 'USD SWAP SEMI 30/360 7YR',\n",
       " 7: 'USD SWAP SEMI 30/360 10Y'}"
      ]
     },
     "execution_count": 7,
     "metadata": {},
     "output_type": "execute_result"
    }
   ],
   "source": [
    "nombre={}\n",
    "for i in range(len(datos.columns)):\n",
    "    nombre[i]=datos.columns[i]\n",
    "nombre"
   ]
  },
  {
   "cell_type": "markdown",
   "metadata": {},
   "source": [
    "# Curva forward"
   ]
  },
  {
   "cell_type": "code",
   "execution_count": 128,
   "metadata": {},
   "outputs": [],
   "source": [
    "def intervalo(df):\n",
    "    # Esta función tiene el objetivo de crear un intervalo en forma de vector\n",
    "    # Me devuelve un array de nx2\n",
    "    x=np.array([np.array(df[i:i+2]) for i in range(len(df)-1)])\n",
    "    return x"
   ]
  },
  {
   "cell_type": "code",
   "execution_count": 129,
   "metadata": {},
   "outputs": [
    {
     "name": "stdout",
     "output_type": "stream",
     "text": [
      "[0, 90, 360, 1080, 1800, 3600] 6\n"
     ]
    },
    {
     "data": {
      "text/plain": [
       "<matplotlib.collections.PathCollection at 0x23ebbf13288>"
      ]
     },
     "execution_count": 129,
     "metadata": {},
     "output_type": "execute_result"
    },
    {
     "data": {
      "image/png": "[encoded data removed]",
      "text/plain": [
       "<Figure size 432x288 with 1 Axes>"
      ]
     },
     "metadata": {
      "needs_background": "light"
     },
     "output_type": "display_data"
    }
   ],
   "source": [
    "#=================== Aplico esta función al plazo que tengo para la curva =======================\n",
    "plazo_curva=[0,3*dias_mes,dia_año,3*dia_año,5*dia_año,10*dia_año]\n",
    "intervalo_curva=intervalo(plazo_curva)\n",
    "\n",
    "print(plazo_curva,len(plazo_curva))\n",
    "\n",
    "# ====================== Gráfico la curva con los valores iniciales ======================\n",
    "tasas_curva=[0.012,0.015,0.02,0.023,0.03]\n",
    "plt.scatter(plazo_curva[1:],tasas_curva)"
   ]
  },
  {
   "cell_type": "code",
   "execution_count": 10,
   "metadata": {},
   "outputs": [
    {
     "data": {
      "text/plain": [
       "array([[   0,   90],\n",
       "       [  90,  360],\n",
       "       [ 360, 1080],\n",
       "       [1080, 1800],\n",
       "       [1800, 3600]])"
      ]
     },
     "execution_count": 10,
     "metadata": {},
     "output_type": "execute_result"
    }
   ],
   "source": [
    "# ========================== Veo como está el intervalo ===================================\n",
    "intervalo_curva"
   ]
  },
  {
   "cell_type": "markdown",
   "metadata": {},
   "source": [
    "### Funciones para la creación de los plazos de la curva a la medidad del instrumento y el DF"
   ]
  },
  {
   "cell_type": "code",
   "execution_count": 11,
   "metadata": {},
   "outputs": [],
   "source": [
    "def plazo_curva_fw(plazo_instrumento, plazos_curva):\n",
    "    #plazo_instrumento: plazo de vencicimiento del instrumento\n",
    "    #plazo_curva: plazos de la curva forward\n",
    "    \n",
    "    # Con esta fórmula construyo la base de plazos, teniendo en cuenta la duración del instrumento\n",
    "    # lo que intento hacer es encontrar el mínimo entre los plazos\n",
    "    # de esta manera si el venciemiento es menor al plazo tomo como referencia el plazo\n",
    "    nuevos_plazos=[]\n",
    "    for plazo in plazos_curva:\n",
    "        nuevos_plazos=np.append(nuevos_plazos,min(plazo,plazo_instrumento))\n",
    "    \n",
    "    return intervalo(nuevos_plazos)\n",
    "    \n",
    "def DF(tasas_forwards, plazos):\n",
    "    #tasa_forwards: tasas de la curva\n",
    "    #plazos: plazos de a los que quiero valorar cada instrumento\n",
    "    #tipo: tipo de crédito swap o libor\n",
    "    \n",
    "    #=========== Esto solo sirve para libor ===============================\n",
    "    \n",
    "    #con esta fórmula encuentro el factor de descuente para cada fecha\n",
    "    #el factor se inicia en cero porque es el tiempo t=1\n",
    "    # la fórmila sirve tanto para sacar los factores de descuento de libor y swaps\n",
    "    # deja como variables las tasas forwards\n",
    "    factor_d=[]\n",
    "   \n",
    "    for i in range(1,len(tasas_forwards)):\n",
    "        periodo=(plazos[i][1]-plazos[i][0])/dia_año\n",
    "        if periodo==0:\n",
    "            FD_1=1\n",
    "            factor_d=np.append(factor_d,FD_1)\n",
    "        else:\n",
    "            FD_1=np.exp(-tasas_forwards[i]*(periodo))#FD_1=mt.exp(-tasas_forwards[i])\n",
    "            factor_d=np.append(factor_d,FD_1)\n",
    "                \n",
    "    return factor_d"
   ]
  },
  {
   "cell_type": "code",
   "execution_count": 12,
   "metadata": {},
   "outputs": [
    {
     "data": {
      "text/plain": [
       "array([[   0.,   90.],\n",
       "       [  90.,  360.],\n",
       "       [ 360., 1080.],\n",
       "       [1080., 1500.],\n",
       "       [1500., 1500.]])"
      ]
     },
     "execution_count": 12,
     "metadata": {},
     "output_type": "execute_result"
    }
   ],
   "source": [
    "#verificar que hace formula\n",
    "plazo_curva_fw(1500,plazo_curva)"
   ]
  },
  {
   "cell_type": "code",
   "execution_count": 13,
   "metadata": {},
   "outputs": [
    {
     "data": {
      "text/plain": [
       "14.0"
      ]
     },
     "execution_count": 13,
     "metadata": {},
     "output_type": "execute_result"
    }
   ],
   "source": [
    "años=7\n",
    "2*(años*360/360)"
   ]
  },
  {
   "cell_type": "code",
   "execution_count": 14,
   "metadata": {},
   "outputs": [
    {
     "data": {
      "text/plain": [
       "array([0.98881304, 0.98019867, 1.        , 1.        ])"
      ]
     },
     "execution_count": 14,
     "metadata": {},
     "output_type": "execute_result"
    }
   ],
   "source": [
    "#verificar que hace la formula de los factores\n",
    "DF(tasas_curva,plazo_curva_fw(2*360,plazo_curva))"
   ]
  },
  {
   "cell_type": "markdown",
   "metadata": {},
   "source": [
    "# Fórmulas de valoración"
   ]
  },
  {
   "cell_type": "code",
   "execution_count": 15,
   "metadata": {},
   "outputs": [],
   "source": [
    "def libor(tasa,tipo_libor,tasas_curva):\n",
    "    # Con esta formula puedo saber cuanto se debe pagar al final del periodo con un crédito Libor\n",
    "    #tasa: tasa libor para el periodo t\n",
    "    # tipo libor: tipo de contrato\n",
    "    # plazo curva: plazos de las curva forward\n",
    "    global plazo_curva\n",
    "    tipo=tipo_libor\n",
    "    plazo_dias=plazos[tipo]\n",
    "    vf_libor=100*(1+tasa*(plazo_dias/360))\n",
    "    vp_libor=vf_libor*DF(tasas_curva,plazo_curva_fw(plazo_dias,plazo_curva)).prod()\n",
    "    return vp_libor\n",
    "\n",
    "def fd_swaps(plazo_vencimiento,tasas_curva):\n",
    "    # plazo vencimiento: plazo en el que vence el contrato \n",
    "    # con esta fórmula puedo sacar el valor presente de un crédito libor o un crédito diferente\n",
    "    # para cada factor de descuento\n",
    "    global plazo_curva\n",
    "    factor=0\n",
    "    factor_final=0\n",
    "    for i in range(int(plazo_vencimiento/360)*2):\n",
    "        fd=DF(tasas_curva,plazo_curva_fw((i+1)*6*30,plazo_curva)).prod()\n",
    "        factor+=fd\n",
    "        factor_final=fd\n",
    "    return factor,factor_final\n",
    "\n",
    "def swap(cupon,tipo_swap,tasas_curva):\n",
    "    # cupon: valor en % del cupon. Dejarlo expresado en decimales\n",
    "    # Tipo de swap es el nombre del swap segun bloomberg\n",
    "    tipo=tipo_swap\n",
    "    plazo_dias=plazos[tipo]\n",
    "    fd=fd_swaps(plazo_dias,tasas_curva)\n",
    "    vp_swap=100*(1/2)*cupon*fd[0]+100*fd[1]\n",
    "    return vp_swap"
   ]
  },
  {
   "cell_type": "code",
   "execution_count": 16,
   "metadata": {},
   "outputs": [
    {
     "data": {
      "text/plain": [
       "(3.9332774919831084, 0.9692332344763441)"
      ]
     },
     "execution_count": 16,
     "metadata": {},
     "output_type": "execute_result"
    }
   ],
   "source": [
    "tasas_curva=[0.015,0.015,0.02,0.023,0.03]\n",
    "plazo_curva=[0,3*dias_mes,dia_año,3*dia_año,5*dia_año,10*dia_año]\n",
    "\n",
    "fd_swaps(2*360,tasas_curva)"
   ]
  },
  {
   "cell_type": "code",
   "execution_count": 99,
   "metadata": {},
   "outputs": [
    {
     "data": {
      "text/plain": [
       "99.72518257861367"
      ]
     },
     "execution_count": 99,
     "metadata": {},
     "output_type": "execute_result"
    }
   ],
   "source": [
    "instrumento=4\n",
    "swap(datos.iloc[500][instrumento],nombre[instrumento],tasas_curva)"
   ]
  },
  {
   "cell_type": "code",
   "execution_count": 17,
   "metadata": {},
   "outputs": [
    {
     "data": {
      "text/plain": [
       "100.47490750000001"
      ]
     },
     "execution_count": 17,
     "metadata": {},
     "output_type": "execute_result"
    }
   ],
   "source": [
    "instrumento=0\n",
    "libor(datos.iloc[500][instrumento],nombre[instrumento],tasas_curva)\n",
    "#libor(datos.iloc[0][datos.columns[columna]],datos.columns[columna],tasas_curva)[0]"
   ]
  },
  {
   "cell_type": "code",
   "execution_count": 18,
   "metadata": {},
   "outputs": [
    {
     "data": {
      "text/plain": [
       "array([0.0172152, 0.0188769, 0.0217313, 0.021946 , 0.022975 , 0.023949 ,\n",
       "       0.024604 , 0.025405 ])"
      ]
     },
     "execution_count": 18,
     "metadata": {},
     "output_type": "execute_result"
    }
   ],
   "source": [
    "np.array(datos.iloc[0])"
   ]
  },
  {
   "cell_type": "markdown",
   "metadata": {},
   "source": [
    "# Metodo de calibración"
   ]
  },
  {
   "cell_type": "markdown",
   "metadata": {},
   "source": [
    "### Función de evaluación "
   ]
  },
  {
   "cell_type": "code",
   "execution_count": 19,
   "metadata": {},
   "outputs": [],
   "source": [
    "def error_cuadrado(tasas_curva,datos):\n",
    "    # función a optimizar\n",
    "    # tasa_curva: son las tasas que se quieren encontrar\n",
    "    # datos es el dato para una fecha específica\n",
    "    global plazo_curva\n",
    "    global tipo\n",
    "    error_cuadrado=0\n",
    "    for instrumento in range(len(datos)):\n",
    "        if tipo[instrumento]==\"libor\":\n",
    "            error=100-libor(datos[instrumento],nombre[instrumento],tasas_curva)\n",
    "            error_cuadrado+=error**2\n",
    "        else:\n",
    "            error=100-swap(datos[instrumento],nombre[instrumento],tasas_curva)\n",
    "            error_cuadrado=+error**2\n",
    "    return error_cuadrado"
   ]
  },
  {
   "cell_type": "markdown",
   "metadata": {},
   "source": [
    "### Optimizador"
   ]
  },
  {
   "cell_type": "code",
   "execution_count": 26,
   "metadata": {},
   "outputs": [],
   "source": [
    "tasas_iniciales=[0.015,0.015,0.02,0.023,0.03]\n",
    "plazo_curva=[0,3*dias_mes,dia_año,3*dia_año,5*dia_año,10*dia_año]\n",
    "\n",
    "def optimizador(datos,error_cuadrado):\n",
    "    global plazo_curva\n",
    "    global tasas_iniciales\n",
    "    # Encuentre el mínimo error posible, bajo las tasas de la cuerva forward\n",
    "    result=spo.minimize(error_cuadrado,tasas_iniciales,args=(datos,),method=\"SLSQP\",options={\"disp\":True})\n",
    "    return result"
   ]
  },
  {
   "cell_type": "code",
   "execution_count": 110,
   "metadata": {
    "scrolled": true
   },
   "outputs": [
    {
     "name": "stderr",
     "output_type": "stream",
     "text": [
      "C:\\Users\\mariaalejandra\\Anaconda3\\lib\\site-packages\\ipykernel_launcher.py:10: RuntimeWarning: overflow encountered in double_scalars\n",
      "  # Remove the CWD from sys.path while we load stuff.\n",
      "C:\\Users\\mariaalejandra\\Anaconda3\\lib\\site-packages\\ipykernel_launcher.py:8: RuntimeWarning: overflow encountered in double_scalars\n",
      "  \n",
      "C:\\Users\\mariaalejandra\\Anaconda3\\lib\\site-packages\\ipykernel_launcher.py:11: RuntimeWarning: overflow encountered in double_scalars\n",
      "  # This is added back by InteractiveShellApp.init_path()\n"
     ]
    },
    {
     "name": "stdout",
     "output_type": "stream",
     "text": [
      "Optimization terminated successfully.    (Exit mode 0)\n",
      "            Current function value: 1.385329558254575e-07\n",
      "            Iterations: 13\n",
      "            Function evaluations: 134\n",
      "            Gradient evaluations: 13\n"
     ]
    },
    {
     "data": {
      "text/plain": [
       "array([ 0.015     , -0.04337284, -0.11381943, -0.82609498,  0.55097556])"
      ]
     },
     "execution_count": 110,
     "metadata": {},
     "output_type": "execute_result"
    }
   ],
   "source": [
    "#================ Prueba del optimizador =====================================\n",
    "result=optimizador(datos.iloc[300],error_cuadrado)\n",
    "result.x"
   ]
  },
  {
   "cell_type": "code",
   "execution_count": 111,
   "metadata": {},
   "outputs": [
    {
     "data": {
      "text/plain": [
       "<matplotlib.collections.PathCollection at 0x23ebbc82708>"
      ]
     },
     "execution_count": 111,
     "metadata": {},
     "output_type": "execute_result"
    },
    {
     "data": {
      "image/png": "[encoded data removed]",
      "text/plain": [
       "<Figure size 432x288 with 1 Axes>"
      ]
     },
     "metadata": {
      "needs_background": "light"
     },
     "output_type": "display_data"
    }
   ],
   "source": [
    "plt.scatter(plazo_curva[1:],result.x)"
   ]
  },
  {
   "cell_type": "code",
   "execution_count": null,
   "metadata": {
    "scrolled": true
   },
   "outputs": [
    {
     "name": "stdout",
     "output_type": "stream",
     "text": [
      "Optimization terminated successfully.    (Exit mode 0)\n",
      "            Current function value: 3.775776424803087e-07\n",
      "            Iterations: 4\n",
      "            Function evaluations: 38\n",
      "            Gradient evaluations: 4\n",
      "Optimization terminated successfully.    (Exit mode 0)\n",
      "            Current function value: 1.0404671030550029e-07\n",
      "            Iterations: 3\n",
      "            Function evaluations: 32\n",
      "            Gradient evaluations: 3\n",
      "Optimization terminated successfully.    (Exit mode 0)\n",
      "            Current function value: 4.654510554301439e-09\n",
      "            Iterations: 5\n",
      "            Function evaluations: 46\n",
      "            Gradient evaluations: 5\n"
     ]
    },
    {
     "name": "stderr",
     "output_type": "stream",
     "text": [
      "C:\\Users\\mariaalejandra\\Anaconda3\\lib\\site-packages\\ipykernel_launcher.py:8: RuntimeWarning: overflow encountered in double_scalars\n",
      "  \n"
     ]
    },
    {
     "name": "stdout",
     "output_type": "stream",
     "text": [
      "Optimization terminated successfully.    (Exit mode 0)\n",
      "            Current function value: 3.380389665339295e-07\n",
      "            Iterations: 11\n",
      "            Function evaluations: 97\n",
      "            Gradient evaluations: 11\n"
     ]
    },
    {
     "name": "stderr",
     "output_type": "stream",
     "text": [
      "C:\\Users\\mariaalejandra\\Anaconda3\\lib\\site-packages\\ipykernel_launcher.py:11: RuntimeWarning: overflow encountered in double_scalars\n",
      "  # This is added back by InteractiveShellApp.init_path()\n"
     ]
    },
    {
     "name": "stdout",
     "output_type": "stream",
     "text": [
      "Optimization terminated successfully.    (Exit mode 0)\n",
      "            Current function value: 5.159869469745964e-09\n",
      "            Iterations: 11\n",
      "            Function evaluations: 98\n",
      "            Gradient evaluations: 11\n",
      "Optimization terminated successfully.    (Exit mode 0)\n",
      "            Current function value: 1.0754056205420854e-10\n",
      "            Iterations: 11\n",
      "            Function evaluations: 104\n",
      "            Gradient evaluations: 11\n",
      "Optimization terminated successfully.    (Exit mode 0)\n",
      "            Current function value: 4.290264869277161e-07\n",
      "            Iterations: 9\n",
      "            Function evaluations: 87\n",
      "            Gradient evaluations: 9\n",
      "Optimization terminated successfully.    (Exit mode 0)\n",
      "            Current function value: 9.293978710491819e-08\n",
      "            Iterations: 12\n",
      "            Function evaluations: 114\n",
      "            Gradient evaluations: 12\n",
      "Optimization terminated successfully.    (Exit mode 0)\n",
      "            Current function value: 2.3870782606998096e-07\n",
      "            Iterations: 11\n",
      "            Function evaluations: 103\n",
      "            Gradient evaluations: 11\n",
      "Optimization terminated successfully.    (Exit mode 0)\n",
      "            Current function value: 4.3028106300854683e-10\n",
      "            Iterations: 10\n",
      "            Function evaluations: 96\n",
      "            Gradient evaluations: 10\n",
      "Optimization terminated successfully.    (Exit mode 0)\n",
      "            Current function value: 1.3898831230449538e-10\n",
      "            Iterations: 10\n",
      "            Function evaluations: 92\n",
      "            Gradient evaluations: 10\n",
      "Optimization terminated successfully.    (Exit mode 0)\n",
      "            Current function value: 1.687674237428856e-07\n",
      "            Iterations: 12\n",
      "            Function evaluations: 111\n",
      "            Gradient evaluations: 12\n",
      "Optimization terminated successfully.    (Exit mode 0)\n",
      "            Current function value: 5.212502280270252e-11\n",
      "            Iterations: 11\n",
      "            Function evaluations: 115\n",
      "            Gradient evaluations: 11\n",
      "Optimization terminated successfully.    (Exit mode 0)\n",
      "            Current function value: 4.418057311815561e-10\n",
      "            Iterations: 12\n",
      "            Function evaluations: 122\n",
      "            Gradient evaluations: 12\n",
      "Optimization terminated successfully.    (Exit mode 0)\n",
      "            Current function value: 8.191937727723228e-09\n",
      "            Iterations: 10\n",
      "            Function evaluations: 93\n",
      "            Gradient evaluations: 10\n"
     ]
    },
    {
     "name": "stderr",
     "output_type": "stream",
     "text": [
      "C:\\Users\\mariaalejandra\\Anaconda3\\lib\\site-packages\\ipykernel_launcher.py:32: RuntimeWarning: overflow encountered in double_scalars\n"
     ]
    },
    {
     "name": "stdout",
     "output_type": "stream",
     "text": [
      "Optimization terminated successfully.    (Exit mode 0)\n",
      "            Current function value: 5.8340883259626335e-12\n",
      "            Iterations: 13\n",
      "            Function evaluations: 122\n",
      "            Gradient evaluations: 13\n"
     ]
    },
    {
     "name": "stderr",
     "output_type": "stream",
     "text": [
      "C:\\Users\\mariaalejandra\\Anaconda3\\lib\\site-packages\\ipykernel_launcher.py:10: RuntimeWarning: overflow encountered in double_scalars\n",
      "  # Remove the CWD from sys.path while we load stuff.\n"
     ]
    },
    {
     "name": "stdout",
     "output_type": "stream",
     "text": [
      "Optimization terminated successfully.    (Exit mode 0)\n",
      "            Current function value: 5.31053515126066e-09\n",
      "            Iterations: 12\n",
      "            Function evaluations: 112\n",
      "            Gradient evaluations: 12\n",
      "Optimization terminated successfully.    (Exit mode 0)\n",
      "            Current function value: 2.0939707338052798e-08\n",
      "            Iterations: 10\n",
      "            Function evaluations: 93\n",
      "            Gradient evaluations: 10\n",
      "Optimization terminated successfully.    (Exit mode 0)\n",
      "            Current function value: 4.685719130635524e-08\n",
      "            Iterations: 12\n",
      "            Function evaluations: 124\n",
      "            Gradient evaluations: 12\n",
      "Optimization terminated successfully.    (Exit mode 0)\n",
      "            Current function value: 3.653953634199007e-09\n",
      "            Iterations: 14\n",
      "            Function evaluations: 132\n",
      "            Gradient evaluations: 14\n",
      "Optimization terminated successfully.    (Exit mode 0)\n",
      "            Current function value: 1.6933758988221977e-11\n",
      "            Iterations: 12\n",
      "            Function evaluations: 122\n",
      "            Gradient evaluations: 12\n",
      "Optimization terminated successfully.    (Exit mode 0)\n",
      "            Current function value: 5.152888620235633e-10\n",
      "            Iterations: 15\n",
      "            Function evaluations: 142\n",
      "            Gradient evaluations: 15\n",
      "Optimization terminated successfully.    (Exit mode 0)\n",
      "            Current function value: 2.260596271752239e-10\n",
      "            Iterations: 10\n",
      "            Function evaluations: 97\n",
      "            Gradient evaluations: 10\n",
      "Optimization terminated successfully.    (Exit mode 0)\n",
      "            Current function value: 1.2296527169542734e-08\n",
      "            Iterations: 12\n",
      "            Function evaluations: 123\n",
      "            Gradient evaluations: 12\n",
      "Optimization terminated successfully.    (Exit mode 0)\n",
      "            Current function value: 1.7831671825429424e-09\n",
      "            Iterations: 17\n",
      "            Function evaluations: 172\n",
      "            Gradient evaluations: 17\n",
      "Optimization terminated successfully.    (Exit mode 0)\n",
      "            Current function value: 5.0713278099897936e-08\n",
      "            Iterations: 13\n",
      "            Function evaluations: 129\n",
      "            Gradient evaluations: 13\n",
      "Optimization terminated successfully.    (Exit mode 0)\n",
      "            Current function value: 8.073830573392215e-11\n",
      "            Iterations: 13\n",
      "            Function evaluations: 135\n",
      "            Gradient evaluations: 13\n",
      "Optimization terminated successfully.    (Exit mode 0)\n",
      "            Current function value: 5.3575300401077557e-14\n",
      "            Iterations: 14\n",
      "            Function evaluations: 134\n",
      "            Gradient evaluations: 14\n",
      "Optimization terminated successfully.    (Exit mode 0)\n",
      "            Current function value: 4.3848403153701905e-07\n",
      "            Iterations: 10\n",
      "            Function evaluations: 93\n",
      "            Gradient evaluations: 10\n",
      "Optimization terminated successfully.    (Exit mode 0)\n",
      "            Current function value: 9.051177264646966e-12\n",
      "            Iterations: 18\n",
      "            Function evaluations: 194\n",
      "            Gradient evaluations: 18\n",
      "Optimization terminated successfully.    (Exit mode 0)\n",
      "            Current function value: 2.974571385231352e-08\n",
      "            Iterations: 13\n",
      "            Function evaluations: 131\n",
      "            Gradient evaluations: 13\n",
      "Optimization terminated successfully.    (Exit mode 0)\n",
      "            Current function value: 3.8805442316186035e-08\n",
      "            Iterations: 14\n",
      "            Function evaluations: 145\n",
      "            Gradient evaluations: 14\n",
      "Optimization terminated successfully.    (Exit mode 0)\n",
      "            Current function value: 4.6019587480245246e-07\n",
      "            Iterations: 15\n",
      "            Function evaluations: 152\n",
      "            Gradient evaluations: 15\n",
      "Optimization terminated successfully.    (Exit mode 0)\n",
      "            Current function value: 3.115882174278844e-07\n",
      "            Iterations: 12\n",
      "            Function evaluations: 115\n",
      "            Gradient evaluations: 12\n",
      "Optimization terminated successfully.    (Exit mode 0)\n",
      "            Current function value: 1.2825045690876862e-13\n",
      "            Iterations: 12\n",
      "            Function evaluations: 111\n",
      "            Gradient evaluations: 12\n",
      "Optimization terminated successfully.    (Exit mode 0)\n",
      "            Current function value: 1.1362466590006258e-10\n",
      "            Iterations: 12\n",
      "            Function evaluations: 120\n",
      "            Gradient evaluations: 12\n",
      "Optimization terminated successfully.    (Exit mode 0)\n",
      "            Current function value: 1.5890552140061465e-07\n",
      "            Iterations: 13\n",
      "            Function evaluations: 131\n",
      "            Gradient evaluations: 13\n",
      "Optimization terminated successfully.    (Exit mode 0)\n",
      "            Current function value: 8.830116697182604e-09\n",
      "            Iterations: 14\n",
      "            Function evaluations: 133\n",
      "            Gradient evaluations: 14\n",
      "Optimization terminated successfully.    (Exit mode 0)\n",
      "            Current function value: 5.3575300401077557e-14\n",
      "            Iterations: 14\n",
      "            Function evaluations: 134\n",
      "            Gradient evaluations: 14\n",
      "Optimization terminated successfully.    (Exit mode 0)\n",
      "            Current function value: 2.8477101015872014e-08\n",
      "            Iterations: 12\n",
      "            Function evaluations: 122\n",
      "            Gradient evaluations: 12\n",
      "Optimization terminated successfully.    (Exit mode 0)\n",
      "            Current function value: 5.0121223116812796e-08\n",
      "            Iterations: 14\n",
      "            Function evaluations: 139\n",
      "            Gradient evaluations: 14\n",
      "Optimization terminated successfully.    (Exit mode 0)\n",
      "            Current function value: 3.5515997615932525e-10\n",
      "            Iterations: 13\n",
      "            Function evaluations: 126\n",
      "            Gradient evaluations: 13\n",
      "Optimization terminated successfully.    (Exit mode 0)\n",
      "            Current function value: 4.889330959777578e-12\n",
      "            Iterations: 13\n",
      "            Function evaluations: 127\n",
      "            Gradient evaluations: 13\n",
      "Optimization terminated successfully.    (Exit mode 0)\n",
      "            Current function value: 3.494366641877754e-09\n",
      "            Iterations: 14\n",
      "            Function evaluations: 146\n",
      "            Gradient evaluations: 14\n",
      "Optimization terminated successfully.    (Exit mode 0)\n",
      "            Current function value: 4.5923028282679516e-09\n",
      "            Iterations: 14\n",
      "            Function evaluations: 134\n",
      "            Gradient evaluations: 14\n",
      "Optimization terminated successfully.    (Exit mode 0)\n",
      "            Current function value: 1.2350756485672058e-09\n",
      "            Iterations: 13\n",
      "            Function evaluations: 129\n",
      "            Gradient evaluations: 13\n",
      "Optimization terminated successfully.    (Exit mode 0)\n",
      "            Current function value: 3.756807023266626e-09\n",
      "            Iterations: 12\n",
      "            Function evaluations: 120\n",
      "            Gradient evaluations: 12\n",
      "Optimization terminated successfully.    (Exit mode 0)\n",
      "            Current function value: 4.449942322657873e-08\n",
      "            Iterations: 14\n",
      "            Function evaluations: 160\n",
      "            Gradient evaluations: 14\n",
      "Optimization terminated successfully.    (Exit mode 0)\n",
      "            Current function value: 8.152756564594923e-11\n",
      "            Iterations: 16\n",
      "            Function evaluations: 165\n",
      "            Gradient evaluations: 16\n",
      "Optimization terminated successfully.    (Exit mode 0)\n",
      "            Current function value: 6.083755729830874e-08\n",
      "            Iterations: 14\n",
      "            Function evaluations: 134\n",
      "            Gradient evaluations: 14\n",
      "Optimization terminated successfully.    (Exit mode 0)\n",
      "            Current function value: 2.87303623935784e-09\n",
      "            Iterations: 12\n",
      "            Function evaluations: 113\n",
      "            Gradient evaluations: 12\n",
      "Optimization terminated successfully.    (Exit mode 0)\n",
      "            Current function value: 2.7113758047044685e-07\n",
      "            Iterations: 12\n",
      "            Function evaluations: 116\n",
      "            Gradient evaluations: 12\n",
      "Optimization terminated successfully.    (Exit mode 0)\n",
      "            Current function value: 4.479169380342191e-11\n",
      "            Iterations: 12\n",
      "            Function evaluations: 115\n",
      "            Gradient evaluations: 12\n",
      "Optimization terminated successfully.    (Exit mode 0)\n",
      "            Current function value: 6.020419851816208e-09\n",
      "            Iterations: 14\n",
      "            Function evaluations: 135\n",
      "            Gradient evaluations: 14\n",
      "Optimization terminated successfully.    (Exit mode 0)\n",
      "            Current function value: 3.9621217839970455e-09\n",
      "            Iterations: 10\n",
      "            Function evaluations: 110\n",
      "            Gradient evaluations: 10\n"
     ]
    },
    {
     "name": "stdout",
     "output_type": "stream",
     "text": [
      "Optimization terminated successfully.    (Exit mode 0)\n",
      "            Current function value: 3.9621217839970455e-09\n",
      "            Iterations: 10\n",
      "            Function evaluations: 110\n",
      "            Gradient evaluations: 10\n",
      "Optimization terminated successfully.    (Exit mode 0)\n",
      "            Current function value: 1.1152345270469957e-07\n",
      "            Iterations: 11\n",
      "            Function evaluations: 117\n",
      "            Gradient evaluations: 11\n",
      "Optimization terminated successfully.    (Exit mode 0)\n",
      "            Current function value: 1.2922630203911647e-10\n",
      "            Iterations: 13\n",
      "            Function evaluations: 132\n",
      "            Gradient evaluations: 13\n",
      "Optimization terminated successfully.    (Exit mode 0)\n",
      "            Current function value: 3.4899661687068896e-07\n",
      "            Iterations: 10\n",
      "            Function evaluations: 97\n",
      "            Gradient evaluations: 10\n",
      "Optimization terminated successfully.    (Exit mode 0)\n",
      "            Current function value: 4.989040378629843e-10\n",
      "            Iterations: 15\n",
      "            Function evaluations: 142\n",
      "            Gradient evaluations: 15\n",
      "Optimization terminated successfully.    (Exit mode 0)\n",
      "            Current function value: 1.444189795892222e-10\n",
      "            Iterations: 16\n",
      "            Function evaluations: 163\n",
      "            Gradient evaluations: 16\n",
      "Optimization terminated successfully.    (Exit mode 0)\n",
      "            Current function value: 3.975002762243178e-10\n",
      "            Iterations: 14\n",
      "            Function evaluations: 138\n",
      "            Gradient evaluations: 14\n",
      "Optimization terminated successfully.    (Exit mode 0)\n",
      "            Current function value: 2.2962676923310223e-07\n",
      "            Iterations: 11\n",
      "            Function evaluations: 100\n",
      "            Gradient evaluations: 11\n",
      "Optimization terminated successfully.    (Exit mode 0)\n",
      "            Current function value: 1.435960219287295e-10\n",
      "            Iterations: 12\n",
      "            Function evaluations: 109\n",
      "            Gradient evaluations: 12\n",
      "Optimization terminated successfully.    (Exit mode 0)\n",
      "            Current function value: 2.2034477115076184e-10\n",
      "            Iterations: 13\n",
      "            Function evaluations: 122\n",
      "            Gradient evaluations: 13\n",
      "Optimization terminated successfully.    (Exit mode 0)\n",
      "            Current function value: 1.2097989320666178e-11\n",
      "            Iterations: 15\n",
      "            Function evaluations: 151\n",
      "            Gradient evaluations: 15\n",
      "Optimization terminated successfully.    (Exit mode 0)\n",
      "            Current function value: 4.028196763152672e-07\n",
      "            Iterations: 13\n",
      "            Function evaluations: 134\n",
      "            Gradient evaluations: 13\n",
      "Optimization terminated successfully.    (Exit mode 0)\n",
      "            Current function value: 1.1432915157292519e-11\n",
      "            Iterations: 14\n",
      "            Function evaluations: 137\n",
      "            Gradient evaluations: 14\n",
      "Optimization terminated successfully.    (Exit mode 0)\n",
      "            Current function value: 3.7593248510626233e-10\n",
      "            Iterations: 15\n",
      "            Function evaluations: 152\n",
      "            Gradient evaluations: 15\n",
      "Optimization terminated successfully.    (Exit mode 0)\n",
      "            Current function value: 1.0712767171928985e-11\n",
      "            Iterations: 18\n",
      "            Function evaluations: 185\n",
      "            Gradient evaluations: 18\n"
     ]
    }
   ],
   "source": [
    "tasa_fwrd=[]\n",
    "for fecha in datos.index:\n",
    "    tasa_fwrd=np.append(optimizador(datos.loc[fecha],error_cuadrado).x,tasa_fwrd)"
   ]
  },
  {
   "cell_type": "code",
   "execution_count": null,
   "metadata": {},
   "outputs": [],
   "source": [
    "tasa_fwrd"
   ]
  },
  {
   "cell_type": "code",
   "execution_count": null,
   "metadata": {},
   "outputs": [],
   "source": []
  }
 ],
 "metadata": {
  "kernelspec": {
   "display_name": "Python 3",
   "language": "python",
   "name": "python3"
  },
  "language_info": {
   "codemirror_mode": {
    "name": "ipython",
    "version": 3
   },
   "file_extension": ".py",
   "mimetype": "text/x-python",
   "name": "python",
   "nbconvert_exporter": "python",
   "pygments_lexer": "ipython3",
   "version": "3.7.4"
  }
 },
 "nbformat": 4,
 "nbformat_minor": 2
}
